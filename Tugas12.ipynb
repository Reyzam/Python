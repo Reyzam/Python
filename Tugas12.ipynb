{
  "nbformat": 4,
  "nbformat_minor": 0,
  "metadata": {
    "colab": {
      "name": "Untitled0.ipynb",
      "provenance": [],
      "authorship_tag": "ABX9TyNrehdkumqCCzGcwh6eBV8d",
      "include_colab_link": true
    },
    "kernelspec": {
      "name": "python3",
      "display_name": "Python 3"
    }
  },
  "cells": [
    {
      "cell_type": "markdown",
      "metadata": {
        "id": "view-in-github",
        "colab_type": "text"
      },
      "source": [
        "<a href=\"https://colab.research.google.com/github/Reyzam/Python/blob/main/Tugas12.ipynb\" target=\"_parent\"><img src=\"https://colab.research.google.com/assets/colab-badge.svg\" alt=\"Open In Colab\"/></a>"
      ]
    },
    {
      "cell_type": "code",
      "metadata": {
        "id": "VQFMySxSMIHZ"
      },
      "source": [
        ""
      ],
      "execution_count": null,
      "outputs": []
    },
    {
      "cell_type": "code",
      "metadata": {
        "id": "tDud9Qd-MRN-"
      },
      "source": [
        "# Name  : Reyza Mahendra\n",
        "# NIM   : 1101208367\n",
        "# Class : TTX 44-01"
      ],
      "execution_count": 2,
      "outputs": []
    },
    {
      "cell_type": "code",
      "metadata": {
        "id": "fHq99DP9Mucs"
      },
      "source": [
        "import numpy as np"
      ],
      "execution_count": 3,
      "outputs": []
    },
    {
      "cell_type": "code",
      "metadata": {
        "id": "Qdo7iTeJM0iJ"
      },
      "source": [
        "NtL = lambda x: 10*np.log10(x)"
      ],
      "execution_count": 4,
      "outputs": []
    },
    {
      "cell_type": "code",
      "metadata": {
        "colab": {
          "base_uri": "https://localhost:8080/"
        },
        "id": "jGGjNWAbM2Hl",
        "outputId": "b63d0c69-cd0c-42ca-b782-986408f1d018"
      },
      "source": [
        "z=NtL(100)\r\n",
        "print(z)"
      ],
      "execution_count": 5,
      "outputs": [
        {
          "output_type": "stream",
          "text": [
            "20.0\n"
          ],
          "name": "stdout"
        }
      ]
    },
    {
      "cell_type": "code",
      "metadata": {
        "id": "4qRqDb5iM4Id"
      },
      "source": [
        "LtN = lambda x: 10**(x/10)"
      ],
      "execution_count": 6,
      "outputs": []
    },
    {
      "cell_type": "code",
      "metadata": {
        "colab": {
          "base_uri": "https://localhost:8080/"
        },
        "id": "ytwd34D6M60Z",
        "outputId": "5517cc20-4563-427b-8947-47069d0a7b2d"
      },
      "source": [
        "y=LtN(100)\r\n",
        "print(y)"
      ],
      "execution_count": 7,
      "outputs": [
        {
          "output_type": "stream",
          "text": [
            "10000000000.0\n"
          ],
          "name": "stdout"
        }
      ]
    },
    {
      "cell_type": "code",
      "metadata": {
        "colab": {
          "base_uri": "https://localhost:8080/"
        },
        "id": "3fqyhLreM9id",
        "outputId": "8966e867-d6fc-40d2-e784-52162175ee1e"
      },
      "source": [
        "# Daerah Suburban\r\n",
        "Lp = 69.55  + (26.16*np.log10(950)) - (13.83*np.log10(95)) - ((((1.1*np.log10(950))-0.7)*25) - ((1.56*np.log10(950))-0.8)) + ((44.9-(6.55*np.log10(25)))*np.log10(10)) + (-10.0852)\r\n",
        "print(Lp)"
      ],
      "execution_count": 8,
      "outputs": [
        {
          "output_type": "stream",
          "text": [
            "85.21147467521693\n"
          ],
          "name": "stdout"
        }
      ]
    },
    {
      "cell_type": "code",
      "metadata": {
        "colab": {
          "base_uri": "https://localhost:8080/"
        },
        "id": "NXaKKIV2M_fp",
        "outputId": "43e17ecb-3fde-45df-db48-5abb6e51c400"
      },
      "source": [
        "\r\n",
        "# Daerah Urban\r\n",
        "Lp = 69.55  + (26.16*np.log10(950)) - (13.83*np.log10(95)) - ((((1.1*np.log10(950))-0.7)*25) - ((1.56*np.log10(950))-0.8)) + ((44.9-(6.55*np.log10(25)))*np.log10(10)) + (0)\r\n",
        "print(Lp)"
      ],
      "execution_count": 9,
      "outputs": [
        {
          "output_type": "stream",
          "text": [
            "95.29667467521693\n"
          ],
          "name": "stdout"
        }
      ]
    },
    {
      "cell_type": "code",
      "metadata": {
        "colab": {
          "base_uri": "https://localhost:8080/"
        },
        "id": "5CRM2D95NB2F",
        "outputId": "ba18d72f-7505-4bfb-e2a2-05bf2b197a1c"
      },
      "source": [
        "# Daerah Open\r\n",
        "Lp = 69.55  + (26.16*np.log10(950)) - (13.83*np.log10(95)) - ((((1.1*np.log10(950))-0.7)*25) - ((1.56*np.log10(950))-0.8)) + ((44.9-(6.55*np.log10(25)))*np.log10(10)) + (-28.7418)\r\n",
        "print(Lp)"
      ],
      "execution_count": 10,
      "outputs": [
        {
          "output_type": "stream",
          "text": [
            "66.55487467521694\n"
          ],
          "name": "stdout"
        }
      ]
    },
    {
      "cell_type": "code",
      "metadata": {
        "id": "qNeFKnfgND1V"
      },
      "source": [
        "def ploss (d, f, cm, ht, hr):\r\n",
        "  pldb= 69.55 + (26.16*np.log10(f)) - (13.83*np.log10(ht)) - ((((1.1*np.log10(f)) - 0.7) * hr) - ((1.56*np.log10(f)) - 0.8)) + ((44.9 - (6.55*np.log10(ht)))*np.log10(d)) + cm\r\n",
        "  plnum=LtN(-pldb)\r\n",
        "  return pldb,plnum"
      ],
      "execution_count": 11,
      "outputs": []
    },
    {
      "cell_type": "code",
      "metadata": {
        "colab": {
          "base_uri": "https://localhost:8080/"
        },
        "id": "IEpdKP41NFmK",
        "outputId": "bed509ec-9d2c-4c4e-cecf-321b9e74c41d"
      },
      "source": [
        "# Daerah Suburban\r\n",
        "pathlossdb, pathlossnum = ploss(10, 950, -10.0852, 95, 25)\r\n",
        "print(\"pathloss dalam db =\",pathlossdb,\"dB\")\r\n",
        "print(\"pathloss dalam numerik =\",pathlossnum,\"kali\")"
      ],
      "execution_count": 12,
      "outputs": [
        {
          "output_type": "stream",
          "text": [
            "pathloss dalam db = 81.41389211737683 dB\n",
            "pathloss dalam numerik = 7.221223524226068e-09 kali\n"
          ],
          "name": "stdout"
        }
      ]
    },
    {
      "cell_type": "code",
      "metadata": {
        "colab": {
          "base_uri": "https://localhost:8080/"
        },
        "id": "iDeGkl2SNIO5",
        "outputId": "6329c626-f5b1-4525-852c-3a3fec3c713f"
      },
      "source": [
        "# Daerah Urban\r\n",
        "pathlossdb, pathlossnum = ploss(10, 950, 0, 95, 25)\r\n",
        "print(\"pathloss dalam db =\",pathlossdb,\"dB\")\r\n",
        "print(\"pathloss dalam numerik =\",pathlossnum,\"kali\")"
      ],
      "execution_count": 13,
      "outputs": [
        {
          "output_type": "stream",
          "text": [
            "pathloss dalam db = 91.49909211737683 dB\n",
            "pathloss dalam numerik = 7.080937942917115e-10 kali\n"
          ],
          "name": "stdout"
        }
      ]
    },
    {
      "cell_type": "code",
      "metadata": {
        "colab": {
          "base_uri": "https://localhost:8080/"
        },
        "id": "a9dqf2O4NKe-",
        "outputId": "6743e588-fdab-4df2-cc25-f55d4f95532b"
      },
      "source": [
        "\r\n",
        "# Daerah Open\r\n",
        "pathlossdb, pathlossnum = ploss(10, 950, -28.7418, 95, 25)\r\n",
        "print(\"pathloss dalam db =\",pathlossdb,\"dB\")\r\n",
        "print(\"pathloss dalam numerik =\",pathlossnum,\"kali\")"
      ],
      "execution_count": 14,
      "outputs": [
        {
          "output_type": "stream",
          "text": [
            "pathloss dalam db = 62.757292117376835 dB\n",
            "pathloss dalam numerik = 5.299937989227408e-07 kali\n"
          ],
          "name": "stdout"
        }
      ]
    },
    {
      "cell_type": "code",
      "metadata": {
        "id": "RIvTDXn4NMEc"
      },
      "source": [
        ""
      ],
      "execution_count": null,
      "outputs": []
    }
  ]
}