{
  "nbformat": 4,
  "nbformat_minor": 0,
  "metadata": {
    "colab": {
      "name": "Untitled0.ipynb",
      "provenance": [],
      "mount_file_id": "18K2Det20_k13q0hyQWPrLhguYOQUAmoK",
      "authorship_tag": "ABX9TyNAI7V5eN3evs1l7Ww7KCiA",
      "include_colab_link": true
    },
    "kernelspec": {
      "name": "python3",
      "display_name": "Python 3"
    }
  },
  "cells": [
    {
      "cell_type": "markdown",
      "metadata": {
        "id": "view-in-github",
        "colab_type": "text"
      },
      "source": [
        "<a href=\"https://colab.research.google.com/github/Reyzam/Python/blob/main/Tugas10.ipynb\" target=\"_parent\"><img src=\"https://colab.research.google.com/assets/colab-badge.svg\" alt=\"Open In Colab\"/></a>"
      ]
    },
    {
      "cell_type": "code",
      "metadata": {
        "colab": {
          "base_uri": "https://localhost:8080/"
        },
        "id": "47TdOImeJg2O",
        "outputId": "9fbb78d5-1b2c-4e17-d8bc-9b8ca95fc30e"
      },
      "source": [
        "cd /content/drive/MyDrive/Colab Notebooks"
      ],
      "execution_count": 1,
      "outputs": [
        {
          "output_type": "stream",
          "text": [
            "/content/drive/MyDrive/Colab Notebooks\n"
          ],
          "name": "stdout"
        }
      ]
    },
    {
      "cell_type": "code",
      "metadata": {
        "colab": {
          "base_uri": "https://localhost:8080/"
        },
        "id": "Gm-aINlCL0Ty",
        "outputId": "9a86c3da-a41e-49ef-e9db-39d6c98c93bd"
      },
      "source": [
        "ls"
      ],
      "execution_count": 2,
      "outputs": [
        {
          "output_type": "stream",
          "text": [
            "\u001b[0m\u001b[01;34mTugas\u001b[0m/  Untitled0.ipynb\n"
          ],
          "name": "stdout"
        }
      ]
    },
    {
      "cell_type": "code",
      "metadata": {
        "id": "19xLyiICL2uX"
      },
      "source": [
        "# import the necessary packages\n",
        "from keras.models import Sequential\n",
        "from keras.layers.convolutional import Conv2D\n",
        "from keras.layers.convolutional import MaxPooling2D\n",
        "from keras.layers.core import Activation\n",
        "from keras.layers.core import Flatten\n",
        "from keras.layers.core import Dense\n",
        "from keras.optimizers import Adam\n",
        "from sklearn.preprocessing import LabelBinarizer\n",
        "from sklearn.model_selection import train_test_split\n",
        "from sklearn.metrics import classification_report\n",
        "from PIL import Image\n",
        "from imutils import paths\n",
        "import numpy as np\n",
        "import os"
      ],
      "execution_count": 3,
      "outputs": []
    },
    {
      "cell_type": "code",
      "metadata": {
        "colab": {
          "base_uri": "https://localhost:8080/"
        },
        "id": "uyiVPxs3L5zQ",
        "outputId": "3efea5c6-b566-48ba-b411-984027d4c668"
      },
      "source": [
        "# grab all image paths in the input dataset directory, then initialize\n",
        "# our list of images and corresponding class labels\n",
        "print(\"[INFO] loading images...\")\n",
        "imagePaths = paths.list_images(\"Tugas\")\n",
        "data = []\n",
        "labels = []"
      ],
      "execution_count": 4,
      "outputs": [
        {
          "output_type": "stream",
          "text": [
            "[INFO] loading images...\n"
          ],
          "name": "stdout"
        }
      ]
    },
    {
      "cell_type": "code",
      "metadata": {
        "id": "DByWoVhWMD3N"
      },
      "source": [
        "# loop over our input images\n",
        "for imagePath in imagePaths:\n",
        "\t# load the input image from disk, resize it to 32x32 pixels, scale\n",
        "\t# the pixel intensities to the range [0, 1], and then update our\n",
        "\t# images list\n",
        "  image = Image.open(imagePath)\n",
        "  image = np.array(image.resize((32, 32))) / 255.0\n",
        "  data.append(image)\n",
        "\n",
        "\t# extract the class label from the file path and update the\n",
        "\t# labels list\n",
        "  label = imagePath.split(os.path.sep)[-2]\n",
        "  labels.append(label)"
      ],
      "execution_count": 5,
      "outputs": []
    },
    {
      "cell_type": "code",
      "metadata": {
        "colab": {
          "base_uri": "https://localhost:8080/"
        },
        "id": "J4KfT1XIMG9V",
        "outputId": "15d5818f-e2c5-404e-8624-c06e4d654c62"
      },
      "source": [
        "print(labels)"
      ],
      "execution_count": 6,
      "outputs": [
        {
          "output_type": "stream",
          "text": [
            "['highway', 'highway', 'highway', 'highway', 'highway', 'highway', 'highway', 'highway', 'highway', 'highway', 'highway', 'highway', 'highway', 'highway', 'highway', 'highway', 'highway', 'highway', 'highway', 'highway', 'highway', 'highway', 'highway', 'highway', 'highway', 'highway', 'highway', 'highway', 'highway', 'highway', 'highway', 'highway', 'highway', 'highway', 'highway', 'highway', 'highway', 'highway', 'highway', 'highway', 'highway', 'highway', 'highway', 'highway', 'highway', 'highway', 'highway', 'highway', 'highway', 'highway', 'highway', 'highway', 'highway', 'highway', 'highway', 'highway', 'highway', 'highway', 'highway', 'highway', 'highway', 'highway', 'highway', 'highway', 'highway', 'highway', 'highway', 'highway', 'highway', 'highway', 'highway', 'highway', 'highway', 'highway', 'highway', 'highway', 'highway', 'highway', 'highway', 'highway', 'highway', 'highway', 'highway', 'highway', 'highway', 'highway', 'highway', 'highway', 'highway', 'highway', 'highway', 'highway', 'highway', 'highway', 'highway', 'highway', 'highway', 'highway', 'highway', 'highway', 'highway', 'highway', 'highway', 'highway', 'highway', 'highway', 'highway', 'highway', 'highway', 'highway', 'highway', 'highway', 'highway', 'highway', 'highway', 'highway', 'highway', 'highway', 'highway', 'highway', 'highway', 'highway', 'highway', 'highway', 'highway', 'highway', 'highway', 'highway', 'highway', 'highway', 'highway', 'highway', 'highway', 'highway', 'highway', 'highway', 'highway', 'highway', 'highway', 'highway', 'highway', 'highway', 'highway', 'highway', 'highway', 'highway', 'highway', 'highway', 'highway', 'highway', 'highway', 'highway', 'highway', 'highway', 'highway', 'highway', 'highway', 'highway', 'highway', 'highway', 'highway', 'highway', 'highway', 'highway', 'highway', 'highway', 'highway', 'highway', 'highway', 'highway', 'highway', 'highway', 'highway', 'highway', 'highway', 'highway', 'highway', 'highway', 'highway', 'highway', 'highway', 'highway', 'highway', 'highway', 'highway', 'highway', 'highway', 'highway', 'highway', 'highway', 'highway', 'highway', 'highway', 'highway', 'highway', 'highway', 'highway', 'highway', 'highway', 'highway', 'highway', 'highway', 'highway', 'highway', 'highway', 'highway', 'highway', 'highway', 'highway', 'highway', 'highway', 'highway', 'highway', 'highway', 'highway', 'highway', 'highway', 'highway', 'highway', 'highway', 'highway', 'highway', 'highway', 'highway', 'highway', 'highway', 'highway', 'highway', 'highway', 'highway', 'highway', 'highway', 'highway', 'highway', 'highway', 'highway', 'highway', 'highway', 'highway', 'highway', 'highway', 'highway', 'highway', 'highway', 'highway', 'highway', 'highway', 'highway', 'highway', 'highway', 'highway', 'highway', 'highway', 'highway', 'highway', 'highway', 'highway', 'highway', 'highway', 'highway', 'forest', 'forest', 'forest', 'forest', 'forest', 'forest', 'forest', 'forest', 'forest', 'forest', 'forest', 'forest', 'forest', 'forest', 'forest', 'forest', 'forest', 'forest', 'forest', 'forest', 'forest', 'forest', 'forest', 'forest', 'forest', 'forest', 'forest', 'forest', 'forest', 'forest', 'forest', 'forest', 'forest', 'forest', 'forest', 'forest', 'forest', 'forest', 'forest', 'forest', 'forest', 'forest', 'forest', 'forest', 'forest', 'forest', 'forest', 'forest', 'forest', 'forest', 'forest', 'forest', 'forest', 'forest', 'forest', 'forest', 'forest', 'forest', 'forest', 'forest', 'forest', 'forest', 'forest', 'forest', 'forest', 'forest', 'forest', 'forest', 'forest', 'forest', 'forest', 'forest', 'forest', 'forest', 'forest', 'forest', 'forest', 'forest', 'forest', 'forest', 'forest', 'forest', 'forest', 'forest', 'forest', 'forest', 'forest', 'forest', 'forest', 'forest', 'forest', 'forest', 'forest', 'forest', 'forest', 'forest', 'forest', 'forest', 'forest', 'forest', 'forest', 'forest', 'forest', 'forest', 'forest', 'forest', 'forest', 'forest', 'forest', 'forest', 'forest', 'forest', 'forest', 'forest', 'forest', 'forest', 'forest', 'forest', 'forest', 'forest', 'forest', 'forest', 'forest', 'forest', 'forest', 'forest', 'forest', 'forest', 'forest', 'forest', 'forest', 'forest', 'forest', 'forest', 'forest', 'forest', 'forest', 'forest', 'forest', 'forest', 'forest', 'forest', 'forest', 'forest', 'forest', 'forest', 'forest', 'forest', 'forest', 'forest', 'forest', 'forest', 'forest', 'forest', 'forest', 'forest', 'forest', 'forest', 'forest', 'forest', 'forest', 'forest', 'forest', 'forest', 'forest', 'forest', 'forest', 'forest', 'forest', 'forest', 'forest', 'forest', 'forest', 'forest', 'forest', 'forest', 'forest', 'forest', 'forest', 'forest', 'forest', 'forest', 'forest', 'forest', 'forest', 'forest', 'forest', 'forest', 'forest', 'forest', 'forest', 'forest', 'forest', 'forest', 'forest', 'forest', 'forest', 'forest', 'forest', 'forest', 'forest', 'forest', 'forest', 'forest', 'forest', 'forest', 'forest', 'forest', 'forest', 'forest', 'forest', 'forest', 'forest', 'forest', 'forest', 'forest', 'forest', 'forest', 'forest', 'forest', 'forest', 'forest', 'forest', 'forest', 'forest', 'forest', 'forest', 'forest', 'forest', 'forest', 'forest', 'forest', 'forest', 'forest', 'forest', 'forest', 'forest', 'forest', 'forest', 'forest', 'forest', 'forest', 'forest', 'forest', 'forest', 'forest', 'forest', 'forest', 'forest', 'forest', 'forest', 'forest', 'forest', 'forest', 'forest', 'forest', 'forest', 'forest', 'forest', 'forest', 'forest', 'forest', 'forest', 'forest', 'forest', 'forest', 'forest', 'forest', 'forest', 'forest', 'forest', 'forest', 'forest', 'forest', 'forest', 'forest', 'forest', 'forest', 'forest', 'forest', 'forest', 'forest', 'forest', 'forest', 'forest', 'forest', 'forest', 'forest', 'forest', 'forest', 'forest', 'forest', 'forest', 'forest', 'forest', 'forest', 'forest', 'forest', 'forest', 'forest', 'forest', 'forest', 'forest', 'forest', 'forest', 'forest', 'forest', 'forest', 'forest', 'forest', 'forest', 'forest', 'forest', 'forest', 'forest', 'forest', 'forest', 'forest', 'forest', 'forest', 'forest', 'forest', 'forest', 'forest', 'forest', 'forest', 'forest', 'forest', 'coast', 'coast', 'coast', 'coast', 'coast', 'coast', 'coast', 'coast', 'coast', 'coast', 'coast', 'coast', 'coast', 'coast', 'coast', 'coast', 'coast', 'coast', 'coast', 'coast', 'coast', 'coast', 'coast', 'coast', 'coast', 'coast', 'coast', 'coast', 'coast', 'coast', 'coast', 'coast', 'coast', 'coast', 'coast', 'coast', 'coast', 'coast', 'coast', 'coast', 'coast', 'coast', 'coast', 'coast', 'coast', 'coast', 'coast', 'coast', 'coast', 'coast', 'coast', 'coast', 'coast', 'coast', 'coast', 'coast', 'coast', 'coast', 'coast', 'coast', 'coast', 'coast', 'coast', 'coast', 'coast', 'coast', 'coast', 'coast', 'coast', 'coast', 'coast', 'coast', 'coast', 'coast', 'coast', 'coast', 'coast', 'coast', 'coast', 'coast', 'coast', 'coast', 'coast', 'coast', 'coast', 'coast', 'coast', 'coast', 'coast', 'coast', 'coast', 'coast', 'coast', 'coast', 'coast', 'coast', 'coast', 'coast', 'coast', 'coast', 'coast', 'coast', 'coast', 'coast', 'coast', 'coast', 'coast', 'coast', 'coast', 'coast', 'coast', 'coast', 'coast', 'coast', 'coast', 'coast', 'coast', 'coast', 'coast', 'coast', 'coast', 'coast', 'coast', 'coast', 'coast', 'coast', 'coast', 'coast', 'coast', 'coast', 'coast', 'coast', 'coast', 'coast', 'coast', 'coast', 'coast', 'coast', 'coast', 'coast', 'coast', 'coast', 'coast', 'coast', 'coast', 'coast', 'coast', 'coast', 'coast', 'coast', 'coast', 'coast', 'coast', 'coast', 'coast', 'coast', 'coast', 'coast', 'coast', 'coast', 'coast', 'coast', 'coast', 'coast', 'coast', 'coast', 'coast', 'coast', 'coast', 'coast', 'coast', 'coast', 'coast', 'coast', 'coast', 'coast', 'coast', 'coast', 'coast', 'coast', 'coast', 'coast', 'coast', 'coast', 'coast', 'coast', 'coast', 'coast', 'coast', 'coast', 'coast', 'coast', 'coast', 'coast', 'coast', 'coast', 'coast', 'coast', 'coast', 'coast', 'coast', 'coast', 'coast', 'coast', 'coast', 'coast', 'coast', 'coast', 'coast', 'coast', 'coast', 'coast', 'coast', 'coast', 'coast', 'coast', 'coast', 'coast', 'coast', 'coast', 'coast', 'coast', 'coast', 'coast', 'coast', 'coast', 'coast', 'coast', 'coast', 'coast', 'coast', 'coast', 'coast', 'coast', 'coast', 'coast', 'coast', 'coast', 'coast', 'coast', 'coast', 'coast', 'coast', 'coast', 'coast', 'coast', 'coast', 'coast', 'coast', 'coast', 'coast', 'coast', 'coast', 'coast', 'coast', 'coast', 'coast', 'coast', 'coast', 'coast', 'coast', 'coast', 'coast', 'coast', 'coast', 'coast', 'coast', 'coast', 'coast', 'coast', 'coast', 'coast', 'coast', 'coast', 'coast', 'coast', 'coast', 'coast', 'coast', 'coast', 'coast', 'coast', 'coast', 'coast', 'coast', 'coast', 'coast', 'coast', 'coast', 'coast', 'coast', 'coast', 'coast', 'coast', 'coast', 'coast', 'coast', 'coast', 'coast', 'coast', 'coast', 'coast', 'coast', 'coast', 'coast', 'coast', 'coast', 'coast', 'coast', 'coast', 'coast', 'coast', 'coast', 'coast', 'coast', 'coast', 'coast', 'coast', 'coast', 'coast', 'coast', 'coast', 'coast', 'coast', 'coast', 'coast', 'coast', 'coast', 'coast', 'coast', 'coast', 'coast', 'coast', 'coast', 'coast', 'coast', 'coast', 'coast', 'coast', 'coast', 'coast', 'coast', 'coast', 'coast', 'coast', 'coast', 'coast', 'coast', 'coast', 'coast', 'coast', 'coast', 'coast', 'coast', 'coast', 'coast', 'coast', 'coast', 'coast', 'coast']\n"
          ],
          "name": "stdout"
        }
      ]
    },
    {
      "cell_type": "code",
      "metadata": {
        "id": "xghMC2deN2wT"
      },
      "source": [
        "# encode the labels, converting them from strings to integers\n",
        "lb = LabelBinarizer()\n",
        "labels = lb.fit_transform(labels)"
      ],
      "execution_count": 7,
      "outputs": []
    },
    {
      "cell_type": "code",
      "metadata": {
        "colab": {
          "base_uri": "https://localhost:8080/"
        },
        "id": "jQ9YvF05N8BE",
        "outputId": "08b72b09-de53-45e8-f989-9b139aaadc41"
      },
      "source": [
        "print(labels)"
      ],
      "execution_count": 8,
      "outputs": [
        {
          "output_type": "stream",
          "text": [
            "[[0 0 1]\n",
            " [0 0 1]\n",
            " [0 0 1]\n",
            " ...\n",
            " [1 0 0]\n",
            " [1 0 0]\n",
            " [1 0 0]]\n"
          ],
          "name": "stdout"
        }
      ]
    },
    {
      "cell_type": "code",
      "metadata": {
        "colab": {
          "base_uri": "https://localhost:8080/"
        },
        "id": "vwe9OzSLN-4H",
        "outputId": "463169b5-3680-4a41-86e2-ea3f84119031"
      },
      "source": [
        "# perform a training and testing split, using 75% of the data for\n",
        "# training and 25% for evaluation\n",
        "(trainX, testX, trainY, testY) = train_test_split(np.array(data),\tnp.array(labels), test_size=0.25)\n",
        "print(trainX.shape)\n",
        "print(testX.shape)"
      ],
      "execution_count": 9,
      "outputs": [
        {
          "output_type": "stream",
          "text": [
            "(711, 32, 32, 3)\n",
            "(237, 32, 32, 3)\n"
          ],
          "name": "stdout"
        }
      ]
    },
    {
      "cell_type": "code",
      "metadata": {
        "id": "7VcBERGMODan"
      },
      "source": [
        "from keras.models import Sequential\n",
        "from keras.layers.core import Flatten\n",
        "from keras.layers.core import Dense\n",
        "\n",
        "model = Sequential(\n",
        "    [\n",
        "        Flatten(input_shape=(32*32*3,)),\n",
        "        Dense(30, activation=\"relu\", name=\"layer1\"),\n",
        "        Dense(30, activation=\"relu\", name=\"layer2\"),\n",
        "        Dense(30, activation=\"relu\", name=\"layer3\"),\n",
        "        Dense(30, activation=\"relu\", name=\"layer4\"),\n",
        "        Dense(30, activation=\"relu\", name=\"layer5\"),\n",
        "        Dense(30, activation=\"relu\", name=\"layer6\"),\n",
        "        Dense(3, activation = \"softmax\", name=\"layer7\"),\n",
        "    ]\n",
        ")"
      ],
      "execution_count": 12,
      "outputs": []
    },
    {
      "cell_type": "code",
      "metadata": {
        "colab": {
          "base_uri": "https://localhost:8080/"
        },
        "id": "LLqxPD2UOHKa",
        "outputId": "e3be386c-2bc1-4a30-b232-3d431fdd4893"
      },
      "source": [
        "model.summary()"
      ],
      "execution_count": 13,
      "outputs": [
        {
          "output_type": "stream",
          "text": [
            "Model: \"sequential_1\"\n",
            "_________________________________________________________________\n",
            "Layer (type)                 Output Shape              Param #   \n",
            "=================================================================\n",
            "flatten_1 (Flatten)          (None, 3072)              0         \n",
            "_________________________________________________________________\n",
            "layer1 (Dense)               (None, 30)                92190     \n",
            "_________________________________________________________________\n",
            "layer2 (Dense)               (None, 30)                930       \n",
            "_________________________________________________________________\n",
            "layer3 (Dense)               (None, 30)                930       \n",
            "_________________________________________________________________\n",
            "layer4 (Dense)               (None, 30)                930       \n",
            "_________________________________________________________________\n",
            "layer5 (Dense)               (None, 30)                930       \n",
            "_________________________________________________________________\n",
            "layer6 (Dense)               (None, 30)                930       \n",
            "_________________________________________________________________\n",
            "layer7 (Dense)               (None, 3)                 93        \n",
            "=================================================================\n",
            "Total params: 96,933\n",
            "Trainable params: 96,933\n",
            "Non-trainable params: 0\n",
            "_________________________________________________________________\n"
          ],
          "name": "stdout"
        }
      ]
    },
    {
      "cell_type": "code",
      "metadata": {
        "colab": {
          "base_uri": "https://localhost:8080/"
        },
        "id": "Lq9tMStMOLKQ",
        "outputId": "b9989f26-d497-4364-c1a3-34c51529deb3"
      },
      "source": [
        "# train the model using the Adam optimizer\n",
        "print(\"[INFO] training network...\")\n",
        "opt = Adam(lr=1e-3, decay=1e-3 / 50)\n",
        "model.compile(loss=\"categorical_crossentropy\", optimizer=opt,\n",
        "\tmetrics=[\"accuracy\"])\n",
        "H = model.fit(trainX, trainY, validation_data=(testX, testY), epochs=35, batch_size=35,)"
      ],
      "execution_count": 14,
      "outputs": [
        {
          "output_type": "stream",
          "text": [
            "[INFO] training network...\n",
            "Epoch 1/35\n",
            "WARNING:tensorflow:Model was constructed with shape (None, 3072) for input Tensor(\"flatten_1_input:0\", shape=(None, 3072), dtype=float32), but it was called on an input with incompatible shape (None, 32, 32, 3).\n",
            "WARNING:tensorflow:Model was constructed with shape (None, 3072) for input Tensor(\"flatten_1_input:0\", shape=(None, 3072), dtype=float32), but it was called on an input with incompatible shape (None, 32, 32, 3).\n",
            "19/21 [==========================>...] - ETA: 0s - loss: 1.0643 - accuracy: 0.4301WARNING:tensorflow:Model was constructed with shape (None, 3072) for input Tensor(\"flatten_1_input:0\", shape=(None, 3072), dtype=float32), but it was called on an input with incompatible shape (None, 32, 32, 3).\n",
            "21/21 [==============================] - 0s 13ms/step - loss: 1.0589 - accuracy: 0.4374 - val_loss: 0.9939 - val_accuracy: 0.5105\n",
            "Epoch 2/35\n",
            "21/21 [==============================] - 0s 5ms/step - loss: 0.9246 - accuracy: 0.5513 - val_loss: 0.9152 - val_accuracy: 0.6076\n",
            "Epoch 3/35\n",
            "21/21 [==============================] - 0s 4ms/step - loss: 0.8481 - accuracy: 0.6217 - val_loss: 0.7991 - val_accuracy: 0.7046\n",
            "Epoch 4/35\n",
            "21/21 [==============================] - 0s 4ms/step - loss: 0.7806 - accuracy: 0.6582 - val_loss: 0.7009 - val_accuracy: 0.7131\n",
            "Epoch 5/35\n",
            "21/21 [==============================] - 0s 4ms/step - loss: 0.6974 - accuracy: 0.6934 - val_loss: 0.6929 - val_accuracy: 0.7004\n",
            "Epoch 6/35\n",
            "21/21 [==============================] - 0s 4ms/step - loss: 0.6118 - accuracy: 0.7693 - val_loss: 0.6720 - val_accuracy: 0.7342\n",
            "Epoch 7/35\n",
            "21/21 [==============================] - 0s 4ms/step - loss: 0.8228 - accuracy: 0.6371 - val_loss: 0.6402 - val_accuracy: 0.7679\n",
            "Epoch 8/35\n",
            "21/21 [==============================] - 0s 4ms/step - loss: 0.6200 - accuracy: 0.7707 - val_loss: 0.5567 - val_accuracy: 0.7764\n",
            "Epoch 9/35\n",
            "21/21 [==============================] - 0s 4ms/step - loss: 0.5727 - accuracy: 0.7736 - val_loss: 0.5302 - val_accuracy: 0.7932\n",
            "Epoch 10/35\n",
            "21/21 [==============================] - 0s 5ms/step - loss: 0.5306 - accuracy: 0.8031 - val_loss: 0.5485 - val_accuracy: 0.7806\n",
            "Epoch 11/35\n",
            "21/21 [==============================] - 0s 4ms/step - loss: 0.5335 - accuracy: 0.8017 - val_loss: 0.5443 - val_accuracy: 0.7722\n",
            "Epoch 12/35\n",
            "21/21 [==============================] - 0s 4ms/step - loss: 0.4834 - accuracy: 0.8200 - val_loss: 0.5233 - val_accuracy: 0.7932\n",
            "Epoch 13/35\n",
            "21/21 [==============================] - 0s 4ms/step - loss: 0.4453 - accuracy: 0.8636 - val_loss: 0.5688 - val_accuracy: 0.7932\n",
            "Epoch 14/35\n",
            "21/21 [==============================] - 0s 4ms/step - loss: 0.5356 - accuracy: 0.8045 - val_loss: 0.5234 - val_accuracy: 0.8059\n",
            "Epoch 15/35\n",
            "21/21 [==============================] - 0s 5ms/step - loss: 0.4411 - accuracy: 0.8467 - val_loss: 0.4892 - val_accuracy: 0.8397\n",
            "Epoch 16/35\n",
            "21/21 [==============================] - 0s 4ms/step - loss: 0.4426 - accuracy: 0.8298 - val_loss: 0.6236 - val_accuracy: 0.7384\n",
            "Epoch 17/35\n",
            "21/21 [==============================] - 0s 4ms/step - loss: 0.4825 - accuracy: 0.8200 - val_loss: 0.5288 - val_accuracy: 0.8523\n",
            "Epoch 18/35\n",
            "21/21 [==============================] - 0s 4ms/step - loss: 0.4226 - accuracy: 0.8453 - val_loss: 0.5458 - val_accuracy: 0.8186\n",
            "Epoch 19/35\n",
            "21/21 [==============================] - 0s 4ms/step - loss: 0.3916 - accuracy: 0.8692 - val_loss: 0.4860 - val_accuracy: 0.8186\n",
            "Epoch 20/35\n",
            "21/21 [==============================] - 0s 4ms/step - loss: 0.3801 - accuracy: 0.8579 - val_loss: 0.4804 - val_accuracy: 0.8397\n",
            "Epoch 21/35\n",
            "21/21 [==============================] - 0s 5ms/step - loss: 0.3524 - accuracy: 0.8819 - val_loss: 0.5224 - val_accuracy: 0.8354\n",
            "Epoch 22/35\n",
            "21/21 [==============================] - 0s 4ms/step - loss: 0.3429 - accuracy: 0.8903 - val_loss: 0.7064 - val_accuracy: 0.7257\n",
            "Epoch 23/35\n",
            "21/21 [==============================] - 0s 4ms/step - loss: 0.3746 - accuracy: 0.8594 - val_loss: 0.4641 - val_accuracy: 0.8270\n",
            "Epoch 24/35\n",
            "21/21 [==============================] - 0s 4ms/step - loss: 0.3122 - accuracy: 0.8959 - val_loss: 0.5471 - val_accuracy: 0.8143\n",
            "Epoch 25/35\n",
            "21/21 [==============================] - 0s 4ms/step - loss: 0.3049 - accuracy: 0.8973 - val_loss: 0.5105 - val_accuracy: 0.8186\n",
            "Epoch 26/35\n",
            "21/21 [==============================] - 0s 4ms/step - loss: 0.3216 - accuracy: 0.8945 - val_loss: 0.4762 - val_accuracy: 0.8523\n",
            "Epoch 27/35\n",
            "21/21 [==============================] - 0s 4ms/step - loss: 0.3249 - accuracy: 0.8762 - val_loss: 0.5044 - val_accuracy: 0.8523\n",
            "Epoch 28/35\n",
            "21/21 [==============================] - 0s 4ms/step - loss: 0.2853 - accuracy: 0.8959 - val_loss: 0.4501 - val_accuracy: 0.8523\n",
            "Epoch 29/35\n",
            "21/21 [==============================] - 0s 4ms/step - loss: 0.3075 - accuracy: 0.8973 - val_loss: 0.4759 - val_accuracy: 0.8565\n",
            "Epoch 30/35\n",
            "21/21 [==============================] - 0s 4ms/step - loss: 0.2734 - accuracy: 0.9044 - val_loss: 0.4769 - val_accuracy: 0.8523\n",
            "Epoch 31/35\n",
            "21/21 [==============================] - 0s 5ms/step - loss: 0.2857 - accuracy: 0.8973 - val_loss: 0.5862 - val_accuracy: 0.7722\n",
            "Epoch 32/35\n",
            "21/21 [==============================] - 0s 5ms/step - loss: 0.3879 - accuracy: 0.8425 - val_loss: 0.5341 - val_accuracy: 0.8354\n",
            "Epoch 33/35\n",
            "21/21 [==============================] - 0s 4ms/step - loss: 0.2798 - accuracy: 0.8959 - val_loss: 0.6301 - val_accuracy: 0.8017\n",
            "Epoch 34/35\n",
            "21/21 [==============================] - 0s 4ms/step - loss: 0.2859 - accuracy: 0.9001 - val_loss: 0.5668 - val_accuracy: 0.7806\n",
            "Epoch 35/35\n",
            "21/21 [==============================] - 0s 4ms/step - loss: 0.2732 - accuracy: 0.8973 - val_loss: 0.5155 - val_accuracy: 0.8481\n"
          ],
          "name": "stdout"
        }
      ]
    },
    {
      "cell_type": "code",
      "metadata": {
        "colab": {
          "base_uri": "https://localhost:8080/",
          "height": 590
        },
        "id": "jf5tAAvUOjGZ",
        "outputId": "b54254a9-4660-472c-abd6-c6444b4a387d"
      },
      "source": [
        "import matplotlib.pyplot as plt\n",
        "\n",
        "print(H.history.keys())\n",
        "# summarize history for accuracy\n",
        "plt.plot(H.history['accuracy'])\n",
        "plt.plot(H.history['val_accuracy'])\n",
        "plt.title('model accuracy')\n",
        "plt.ylabel('accuracy')\n",
        "plt.xlabel('epoch')\n",
        "plt.legend(['train', 'test'], loc='upper left')\n",
        "plt.show()\n",
        "# summarize history for loss\n",
        "plt.plot(H.history['loss'])\n",
        "plt.plot(H.history['val_loss'])\n",
        "plt.title('model loss')\n",
        "plt.ylabel('loss')\n",
        "plt.xlabel('epoch')\n",
        "plt.legend(['train', 'test'], loc='upper left')\n",
        "plt.show()"
      ],
      "execution_count": 15,
      "outputs": [
        {
          "output_type": "stream",
          "text": [
            "dict_keys(['loss', 'accuracy', 'val_loss', 'val_accuracy'])\n"
          ],
          "name": "stdout"
        },
        {
          "output_type": "display_data",
          "data": {
            "image/png": "[encoded data removed]",
            "text/plain": [
              "<Figure size 432x288 with 1 Axes>"
            ]
          },
          "metadata": {
            "tags": [],
            "needs_background": "light"
          }
        },
        {
          "output_type": "display_data",
          "data": {
            "image/png": "[encoded data removed]",
            "text/plain": [
              "<Figure size 432x288 with 1 Axes>"
            ]
          },
          "metadata": {
            "tags": [],
            "needs_background": "light"
          }
        }
      ]
    },
    {
      "cell_type": "code",
      "metadata": {
        "colab": {
          "base_uri": "https://localhost:8080/"
        },
        "id": "D9SKzoNlOnsP",
        "outputId": "b453eae1-0812-481d-ae3e-5fec4f8df44e"
      },
      "source": [
        "# evaluate the network\n",
        "print(\"[INFO] evaluating network...\")\n",
        "predictions = model.predict(testX, batch_size=64)\n",
        "print(classification_report(testY.argmax(axis=1),\n",
        "\tpredictions.argmax(axis=1), target_names=lb.classes_))"
      ],
      "execution_count": 16,
      "outputs": [
        {
          "output_type": "stream",
          "text": [
            "[INFO] evaluating network...\n",
            "WARNING:tensorflow:Model was constructed with shape (None, 3072) for input Tensor(\"flatten_1_input:0\", shape=(None, 3072), dtype=float32), but it was called on an input with incompatible shape (None, 32, 32, 3).\n",
            "              precision    recall  f1-score   support\n",
            "\n",
            "       coast       0.84      0.81      0.83        80\n",
            "      forest       0.88      0.86      0.87        91\n",
            "     highway       0.82      0.88      0.85        66\n",
            "\n",
            "    accuracy                           0.85       237\n",
            "   macro avg       0.85      0.85      0.85       237\n",
            "weighted avg       0.85      0.85      0.85       237\n",
            "\n"
          ],
          "name": "stdout"
        }
      ]
    },
    {
      "cell_type": "code",
      "metadata": {
        "id": "YFG2rn-kOry-"
      },
      "source": [
        ""
      ],
      "execution_count": null,
      "outputs": []
    }
  ]
}